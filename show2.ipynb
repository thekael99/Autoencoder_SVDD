{
 "cells": [
  {
   "cell_type": "code",
   "execution_count": 2,
   "metadata": {},
   "outputs": [
    {
     "name": "stdout",
     "output_type": "stream",
     "text": [
      "/home/kael99/Documents/Code/Autoencoder_SVDD\n"
     ]
    }
   ],
   "source": [
    "from sklearn.metrics import roc_auc_score\n",
    "from sklearn.model_selection import train_test_split\n",
    "import matplotlib.pyplot as plt\n",
    "\n",
    "from aesvdd import autoencoder\n",
    "from aesvdd import model\n",
    "from aesvdd import datasets\n",
    "\n",
    "import warnings\n",
    "import tensorflow.compat.v1 as tf\n",
    "tf.disable_v2_behavior()\n",
    "from tensorflow.keras import Model\n",
    "from tensorflow import keras\n",
    "import pandas as pd\n",
    "import numpy as np\n",
    "\n",
    "import time\n",
    "import os\n",
    "os.environ['TF_CPP_MIN_LOG_LEVEL'] = '3'\n",
    "print(os.getcwd())\n",
    "warnings.filterwarnings(\"ignore\")\n"
   ]
  },
  {
   "cell_type": "code",
   "execution_count": 11,
   "metadata": {},
   "outputs": [],
   "source": [
    "# X, y = datasets.get_paysim()\n",
    "# X.tofile(\"X.dat\")\n",
    "# y.tofile(\"y.dat\")\n",
    "X = np.fromfile(\"X.dat\").reshape(-1,9)\n",
    "y = np.fromfile(\"y.dat\", dtype=np.int64)\n",
    "X_train, X_test, y_train, y_test = train_test_split(X, y, train_size=10000, test_size=5000)\n"
   ]
  },
  {
   "cell_type": "code",
   "execution_count": 12,
   "metadata": {},
   "outputs": [
    {
     "name": "stdout",
     "output_type": "stream",
     "text": [
      "WARNING:tensorflow:Output dense_3 missing from loss dictionary. We assume this was done on purpose. The fit and evaluate APIs will not be expecting any data to be passed to dense_3.\n"
     ]
    }
   ],
   "source": [
    "tf.reset_default_graph()\n",
    "ae_model = autoencoder.VAE(z_dim=5)"
   ]
  },
  {
   "cell_type": "code",
   "execution_count": 13,
   "metadata": {},
   "outputs": [
    {
     "name": "stdout",
     "output_type": "stream",
     "text": [
      "Train on 300000 samples, validate on 50000 samples\n",
      "Epoch 1/5\n",
      "300000/300000 [==============================] - 7s 22us/sample - loss: 0.5509 - val_loss: -0.1928\n",
      "Epoch 2/5\n",
      "300000/300000 [==============================] - 6s 19us/sample - loss: -0.1883 - val_loss: -0.1931\n",
      "Epoch 3/5\n",
      "300000/300000 [==============================] - 6s 21us/sample - loss: -0.1883 - val_loss: -0.1934\n",
      "Epoch 4/5\n",
      "300000/300000 [==============================] - 7s 22us/sample - loss: -0.1885 - val_loss: -0.1930\n",
      "Epoch 5/5\n",
      "300000/300000 [==============================] - 6s 21us/sample - loss: -0.1888 - val_loss: -0.1932\n"
     ]
    },
    {
     "data": {
      "text/plain": [
       "<tensorflow.python.keras.callbacks.History at 0x7f1c7f423310>"
      ]
     },
     "execution_count": 13,
     "metadata": {},
     "output_type": "execute_result"
    }
   ],
   "source": [
    "# pretrain\n",
    "ae_model.fit(X_train, shuffle=True, epochs=5, batch_size=100, validation_data=(X_test, None), verbose=1)\n"
   ]
  },
  {
   "cell_type": "code",
   "execution_count": 14,
   "metadata": {},
   "outputs": [],
   "source": [
    "inputs = ae_model.input\n",
    "outputs = ae_model.get_layer(name=\"code_layer\").output\n",
    "encoder = Model(inputs=inputs, outputs=outputs)"
   ]
  },
  {
   "cell_type": "code",
   "execution_count": 15,
   "metadata": {},
   "outputs": [],
   "source": [
    "ae_svdd = model.AESVDD(encoder, input_shape=(9,), representation_dim=5, objective=\"hard\", nu=0.05, lr=2e-4)"
   ]
  },
  {
   "cell_type": "code",
   "execution_count": 16,
   "metadata": {},
   "outputs": [
    {
     "name": "stderr",
     "output_type": "stream",
     "text": [
      "100%|██████████| 2344/2344 [00:01<00:00, 1271.65it/s]\n",
      "  5%|▌         | 119/2344 [00:00<00:01, 1181.22it/s]"
     ]
    },
    {
     "name": "stdout",
     "output_type": "stream",
     "text": [
      "Epoch:   0 AUROC: 0.714\n"
     ]
    },
    {
     "name": "stderr",
     "output_type": "stream",
     "text": [
      "100%|██████████| 2344/2344 [00:02<00:00, 1159.18it/s]\n",
      "  5%|▌         | 121/2344 [00:00<00:01, 1205.91it/s]"
     ]
    },
    {
     "name": "stdout",
     "output_type": "stream",
     "text": [
      "Epoch:   1 AUROC: 0.812\n"
     ]
    },
    {
     "name": "stderr",
     "output_type": "stream",
     "text": [
      "100%|██████████| 2344/2344 [00:02<00:00, 1067.94it/s]\n",
      "  6%|▌         | 132/2344 [00:00<00:01, 1319.48it/s]"
     ]
    },
    {
     "name": "stdout",
     "output_type": "stream",
     "text": [
      "Epoch:   2 AUROC: 0.821\n"
     ]
    },
    {
     "name": "stderr",
     "output_type": "stream",
     "text": [
      "100%|██████████| 2344/2344 [00:01<00:00, 1409.48it/s]\n",
      "  6%|▋         | 148/2344 [00:00<00:01, 1474.49it/s]"
     ]
    },
    {
     "name": "stdout",
     "output_type": "stream",
     "text": [
      "Epoch:   3 AUROC: 0.832\n"
     ]
    },
    {
     "name": "stderr",
     "output_type": "stream",
     "text": [
      "100%|██████████| 2344/2344 [00:01<00:00, 1381.77it/s]\n",
      "  5%|▌         | 121/2344 [00:00<00:01, 1204.66it/s]"
     ]
    },
    {
     "name": "stdout",
     "output_type": "stream",
     "text": [
      "Epoch:   4 AUROC: 0.848\n"
     ]
    },
    {
     "name": "stderr",
     "output_type": "stream",
     "text": [
      "100%|██████████| 2344/2344 [00:02<00:00, 1134.40it/s]\n",
      "  6%|▌         | 137/2344 [00:00<00:01, 1367.73it/s]"
     ]
    },
    {
     "name": "stdout",
     "output_type": "stream",
     "text": [
      "Epoch:   5 AUROC: 0.861\n"
     ]
    },
    {
     "name": "stderr",
     "output_type": "stream",
     "text": [
      "100%|██████████| 2344/2344 [00:02<00:00, 1154.10it/s]\n",
      "  6%|▌         | 135/2344 [00:00<00:01, 1328.11it/s]"
     ]
    },
    {
     "name": "stdout",
     "output_type": "stream",
     "text": [
      "Epoch:   6 AUROC: 0.889\n"
     ]
    },
    {
     "name": "stderr",
     "output_type": "stream",
     "text": [
      "100%|██████████| 2344/2344 [00:01<00:00, 1453.58it/s]\n",
      "  5%|▌         | 128/2344 [00:00<00:01, 1276.56it/s]"
     ]
    },
    {
     "name": "stdout",
     "output_type": "stream",
     "text": [
      "Epoch:   7 AUROC: 0.924\n"
     ]
    },
    {
     "name": "stderr",
     "output_type": "stream",
     "text": [
      "100%|██████████| 2344/2344 [00:01<00:00, 1408.90it/s]\n",
      "  6%|▌         | 143/2344 [00:00<00:01, 1423.37it/s]"
     ]
    },
    {
     "name": "stdout",
     "output_type": "stream",
     "text": [
      "Epoch:   8 AUROC: 0.899\n"
     ]
    },
    {
     "name": "stderr",
     "output_type": "stream",
     "text": [
      "100%|██████████| 2344/2344 [00:01<00:00, 1290.34it/s]\n"
     ]
    },
    {
     "name": "stdout",
     "output_type": "stream",
     "text": [
      "Epoch:   9 AUROC: 0.814\n",
      "Train time: 22.321998357772827\n",
      "Test time: 0.18097996711730957\n",
      "------------- AUROC ----------- : 0.8137\n"
     ]
    }
   ],
   "source": [
    "t0 = time.time()\n",
    "hisory = ae_svdd.fit(X_train, X_test, y_test, epochs=10, verbose=True)\n",
    "print('Train time:', time.time() - t0)\n",
    "\n",
    "# test DeepSVDD\n",
    "t0 = time.time()\n",
    "score = ae_svdd.predict(X_test)\n",
    "auc = roc_auc_score(y_test, -score)\n",
    "print('Test time:', time.time() - t0)\n",
    "print('------------- AUROC ----------- : %.4f' % auc)\n"
   ]
  }
 ],
 "metadata": {
  "interpreter": {
   "hash": "916dbcbb3f70747c44a77c7bcd40155683ae19c65e1c03b4aa3499c5328201f1"
  },
  "kernelspec": {
   "display_name": "Python 3.8.10 64-bit",
   "name": "python3"
  },
  "language_info": {
   "name": "python",
   "version": ""
  },
  "orig_nbformat": 4
 },
 "nbformat": 4,
 "nbformat_minor": 2
}