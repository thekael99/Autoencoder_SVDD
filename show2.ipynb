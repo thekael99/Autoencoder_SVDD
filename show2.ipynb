{
 "cells": [
  {
   "cell_type": "code",
   "execution_count": 1,
   "source": [
    "from sklearn.metrics import roc_auc_score\n",
    "from sklearn.model_selection import train_test_split\n",
    "import matplotlib.pyplot as plt\n",
    "\n",
    "from aesvdd import autoencoder\n",
    "from aesvdd import model\n",
    "from aesvdd import datasets\n",
    "\n",
    "import warnings\n",
    "import tensorflow.compat.v1 as tf\n",
    "tf.disable_v2_behavior()\n",
    "from tensorflow.keras import Model\n",
    "from tensorflow import keras\n",
    "import pandas as pd\n",
    "import numpy as np\n",
    "\n",
    "import time\n",
    "import os\n",
    "os.environ['TF_CPP_MIN_LOG_LEVEL'] = '3'\n",
    "print(os.getcwd())\n",
    "warnings.filterwarnings(\"ignore\")\n"
   ],
   "outputs": [
    {
     "output_type": "stream",
     "name": "stdout",
     "text": [
      "WARNING:tensorflow:From /home/kael99/.local/lib/python3.8/site-packages/tensorflow/python/compat/v2_compat.py:96: disable_resource_variables (from tensorflow.python.ops.variable_scope) is deprecated and will be removed in a future version.\n",
      "Instructions for updating:\n",
      "non-resource variables are not supported in the long term\n",
      "/home/kael99/Documents/Code/Autoencoder_SVDD\n"
     ]
    }
   ],
   "metadata": {}
  },
  {
   "cell_type": "code",
   "execution_count": 2,
   "source": [
    "# X, y = datasets.get_paysim()\n",
    "# X.tofile(\"./data/X.dat\")\n",
    "# y.tofile(\"./data/y.dat\")\n",
    "# X = np.fromfile(\"./data/X.dat\").reshape(-1,9)\n",
    "# y = np.fromfile(\"./data/y.dat\", dtype=np.int64)\n",
    "# X_train, X_test, y_train, y_test = train_test_split(X, y, train_size=60000, test_size=20000)\n",
    "X_train = np.fromfile(\"./data/X_train.dat\").reshape(-1, 9)\n",
    "y_train = np.fromfile(\"./data/y_train.dat\", dtype=np.int64)\n",
    "X_test = np.fromfile(\"./data/X_test.dat\").reshape(-1,9)\n",
    "y_test = np.fromfile(\"./data/y_test.dat\", dtype=np.int64)\n"
   ],
   "outputs": [],
   "metadata": {}
  },
  {
   "cell_type": "code",
   "execution_count": 3,
   "source": [
    "tf.reset_default_graph()\n",
    "ae_model = autoencoder.VAE(z_dim=5)\n",
    "# ae_model = autoencoder.Vanilla_AE(H=5)"
   ],
   "outputs": [
    {
     "output_type": "stream",
     "name": "stdout",
     "text": [
      "WARNING:tensorflow:Output dense_3 missing from loss dictionary. We assume this was done on purpose. The fit and evaluate APIs will not be expecting any data to be passed to dense_3.\n"
     ]
    }
   ],
   "metadata": {}
  },
  {
   "cell_type": "code",
   "execution_count": 4,
   "source": [
    "# pretrain\n",
    "ae_model.fit(X_train, shuffle=True, epochs=1, batch_size=100, validation_data=(X_test, None), verbose=1)\n"
   ],
   "outputs": [
    {
     "output_type": "stream",
     "name": "stdout",
     "text": [
      "Train on 60000 samples, validate on 20000 samples\n",
      "59000/60000 [============================>.] - ETA: 0s - loss: 2.2365WARNING:tensorflow:From /home/kael99/.local/lib/python3.8/site-packages/tensorflow/python/keras/engine/training_v1.py:2048: Model.state_updates (from tensorflow.python.keras.engine.training) is deprecated and will be removed in a future version.\n",
      "Instructions for updating:\n",
      "This property should not be used in TensorFlow 2.0, as updates are applied automatically.\n",
      "60000/60000 [==============================] - 1s 21us/sample - loss: 2.2066 - val_loss: 0.3715\n"
     ]
    },
    {
     "output_type": "execute_result",
     "data": {
      "text/plain": [
       "<tensorflow.python.keras.callbacks.History at 0x7f01c4664700>"
      ]
     },
     "metadata": {},
     "execution_count": 4
    }
   ],
   "metadata": {}
  },
  {
   "cell_type": "code",
   "execution_count": 5,
   "source": [
    "inputs = ae_model.input\n",
    "outputs = ae_model.get_layer(name=\"code_layer\").output\n",
    "encoder = Model(inputs=inputs, outputs=outputs)"
   ],
   "outputs": [],
   "metadata": {}
  },
  {
   "cell_type": "code",
   "execution_count": 6,
   "source": [
    "ae_svdd = model.AESVDD(encoder, input_shape=(9,), representation_dim=5, objective=\"hard\", nu=0.05, lr=5e-4)"
   ],
   "outputs": [
    {
     "output_type": "stream",
     "name": "stdout",
     "text": [
      "WARNING:tensorflow:From /home/kael99/Documents/Code/Autoencoder_SVDD/aesvdd/model.py:47: The name tf.keras.backend.set_session is deprecated. Please use tf.compat.v1.keras.backend.set_session instead.\n",
      "\n"
     ]
    }
   ],
   "metadata": {}
  },
  {
   "cell_type": "code",
   "execution_count": 7,
   "source": [
    "#train AESVDD\n",
    "t0 = time.time()\n",
    "hisory = ae_svdd.fit(X_train, X_test, y_test, epochs=2, verbose=False)\n",
    "print('Train time:', time.time() - t0)\n",
    "\n",
    "#test AESVDD\n",
    "t0 = time.time()\n",
    "score = ae_svdd.predict(X_test)\n",
    "auc = roc_auc_score(y_test, -score)\n",
    "print('Test time:', time.time() - t0)\n",
    "print('------------- AUROC ----------- : %.4f' % auc)\n"
   ],
   "outputs": [
    {
     "output_type": "stream",
     "name": "stdout",
     "text": [
      "WARNING:tensorflow:From /home/kael99/Documents/Code/Autoencoder_SVDD/aesvdd/model.py:112: set_learning_phase (from tensorflow.python.keras.backend) is deprecated and will be removed after 2020-10-11.\n",
      "Instructions for updating:\n",
      "Simply pass a True/False value to the `training` argument of the `__call__` method of your layer or model.\n",
      "Train time: 0.9945864677429199\n",
      "Test time: 0.08669424057006836\n",
      "------------- AUROC ----------- : 0.5573\n"
     ]
    }
   ],
   "metadata": {}
  },
  {
   "cell_type": "code",
   "execution_count": 9,
   "source": [
    "ae_svdd.save_model(\"1\")"
   ],
   "outputs": [],
   "metadata": {}
  }
 ],
 "metadata": {
  "interpreter": {
   "hash": "916dbcbb3f70747c44a77c7bcd40155683ae19c65e1c03b4aa3499c5328201f1"
  },
  "kernelspec": {
   "name": "python3",
   "display_name": "Python 3.8.10 64-bit"
  },
  "language_info": {
   "codemirror_mode": {
    "name": "ipython",
    "version": 3
   },
   "file_extension": ".py",
   "mimetype": "text/x-python",
   "name": "python",
   "nbconvert_exporter": "python",
   "pygments_lexer": "ipython3",
   "version": "3.8.10"
  },
  "orig_nbformat": 4
 },
 "nbformat": 4,
 "nbformat_minor": 2
}