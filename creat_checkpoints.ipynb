{
 "cells": [
  {
   "cell_type": "code",
   "execution_count": 1,
   "source": [
    "import os\n",
    "import time\n",
    "import numpy as np\n",
    "import pandas as pd\n",
    "from tensorflow import keras\n",
    "from tensorflow.keras import Model\n",
    "from sklearn.model_selection import train_test_split\n",
    "from sklearn.metrics import roc_auc_score\n",
    "import matplotlib.pyplot as plt\n",
    "\n",
    "from aesvdd import autoencoder\n",
    "from aesvdd import model\n",
    "from aesvdd import datasets\n",
    "\n",
    "import warnings\n",
    "import tensorflow.compat.v1 as tf\n",
    "tf.disable_v2_behavior()\n",
    "\n",
    "from tqdm import tqdm\n",
    "\n",
    "os.environ['TF_CPP_MIN_LOG_LEVEL'] = '3'\n",
    "print(os.getcwd())\n",
    "warnings.filterwarnings(\"ignore\")\n"
   ],
   "outputs": [
    {
     "output_type": "stream",
     "name": "stdout",
     "text": [
      "WARNING:tensorflow:From /home/kael99/.local/lib/python3.8/site-packages/tensorflow/python/compat/v2_compat.py:96: disable_resource_variables (from tensorflow.python.ops.variable_scope) is deprecated and will be removed in a future version.\n",
      "Instructions for updating:\n",
      "non-resource variables are not supported in the long term\n",
      "/home/kael99/Documents/Code/Autoencoder_SVDD\n"
     ]
    }
   ],
   "metadata": {}
  },
  {
   "cell_type": "code",
   "execution_count": 2,
   "source": [
    "X_train = np.fromfile(\"./data/X_train_100k.dat\").reshape(-1, 9)\n",
    "y_train = np.fromfile(\"./data/y_train_100k.dat\", dtype=np.int64)\n",
    "X_test = np.fromfile(\"./data/X_test_20k.dat\").reshape(-1, 9)\n",
    "y_test = np.fromfile(\"./data/y_test_20k.dat\", dtype=np.int64)"
   ],
   "outputs": [],
   "metadata": {}
  },
  {
   "cell_type": "code",
   "execution_count": 3,
   "source": [
    "lines = open(\"creat_checkpoints.csv\")"
   ],
   "outputs": [],
   "metadata": {}
  },
  {
   "cell_type": "code",
   "execution_count": 4,
   "source": [
    "name = 0\n",
    "res_auc = []\n",
    "for line in tqdm(lines):\n",
    "    #setting\n",
    "    setting = tuple(line.split())\n",
    "    svdd_object, nu, lr, epochs = setting[0], float(setting[1]), float(setting[2]), int(setting[3])\n",
    "    \n",
    "    #creat autoencoder model\n",
    "    tf.reset_default_graph()\n",
    "    ae_model = autoencoder.VAE(z_dim=5)\n",
    "\n",
    "    # pretrain\n",
    "    ae_model.fit(X_train, shuffle=True, epochs=1, batch_size=100, validation_data=(X_test, None), verbose=0)\n",
    "\n",
    "    inputs = ae_model.input\n",
    "    outputs = ae_model.get_layer(name=\"code_layer\").output\n",
    "    encoder = Model(inputs=inputs, outputs=outputs)\n",
    "\n",
    "    #creat autoencoder svdd\n",
    "    ae_svdd = model.AESVDD(encoder, input_shape=(9,), representation_dim=5, objective=svdd_object, nu=nu, lr=lr)\n",
    "    hisory = ae_svdd.fit(X_train, X_test, y_test, epochs=epochs, verbose=False)\n",
    "    score = ae_svdd.predict(X_test)\n",
    "    auc = roc_auc_score(y_test, -score)\n",
    "    res_auc.append(line.strip(\"\\n\") + \" \" + str(auc) + \"\\n\")\n",
    "    ae_svdd.save_model(str(name))\n",
    "    name += 1\n",
    "\n",
    "lines.close()"
   ],
   "outputs": [
    {
     "output_type": "stream",
     "name": "stderr",
     "text": [
      "0it [00:00, ?it/s]"
     ]
    },
    {
     "output_type": "stream",
     "name": "stdout",
     "text": [
      "WARNING:tensorflow:Output dense_3 missing from loss dictionary. We assume this was done on purpose. The fit and evaluate APIs will not be expecting any data to be passed to dense_3.\n",
      "WARNING:tensorflow:From /home/kael99/.local/lib/python3.8/site-packages/tensorflow/python/keras/engine/training_v1.py:2048: Model.state_updates (from tensorflow.python.keras.engine.training) is deprecated and will be removed in a future version.\n",
      "Instructions for updating:\n",
      "This property should not be used in TensorFlow 2.0, as updates are applied automatically.\n",
      "WARNING:tensorflow:From /home/kael99/Documents/Code/Autoencoder_SVDD/aesvdd/model.py:47: The name tf.keras.backend.set_session is deprecated. Please use tf.compat.v1.keras.backend.set_session instead.\n",
      "\n",
      "WARNING:tensorflow:From /home/kael99/Documents/Code/Autoencoder_SVDD/aesvdd/model.py:111: set_learning_phase (from tensorflow.python.keras.backend) is deprecated and will be removed after 2020-10-11.\n",
      "Instructions for updating:\n",
      "Simply pass a True/False value to the `training` argument of the `__call__` method of your layer or model.\n"
     ]
    },
    {
     "output_type": "stream",
     "name": "stderr",
     "text": [
      "1it [00:03,  3.10s/it]\n"
     ]
    }
   ],
   "metadata": {}
  },
  {
   "cell_type": "code",
   "execution_count": 5,
   "source": [
    "f = open(\"creat_checkpoints.csv\", \"w\")\n",
    "for line in res_auc:\n",
    "    f.write(line)\n",
    "f.close()"
   ],
   "outputs": [],
   "metadata": {}
  }
 ],
 "metadata": {
  "orig_nbformat": 4,
  "language_info": {
   "name": "python",
   "version": "3.8.10",
   "mimetype": "text/x-python",
   "codemirror_mode": {
    "name": "ipython",
    "version": 3
   },
   "pygments_lexer": "ipython3",
   "nbconvert_exporter": "python",
   "file_extension": ".py"
  },
  "kernelspec": {
   "name": "python3",
   "display_name": "Python 3.8.10 64-bit"
  },
  "interpreter": {
   "hash": "916dbcbb3f70747c44a77c7bcd40155683ae19c65e1c03b4aa3499c5328201f1"
  }
 },
 "nbformat": 4,
 "nbformat_minor": 2
}