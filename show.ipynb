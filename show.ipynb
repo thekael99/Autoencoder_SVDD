{
 "cells": [
  {
   "cell_type": "code",
   "execution_count": 1,
   "metadata": {},
   "outputs": [
    {
     "name": "stdout",
     "output_type": "stream",
     "text": [
      "/workspace/Linh/Autoencoder_SVDD\n",
      "WARNING:tensorflow:From /workspace/Linh/svdd_env/lib/python3.6/site-packages/tensorflow/python/compat/v2_compat.py:96: disable_resource_variables (from tensorflow.python.ops.variable_scope) is deprecated and will be removed in a future version.\n",
      "Instructions for updating:\n",
      "non-resource variables are not supported in the long term\n"
     ]
    }
   ],
   "source": [
    "import os\n",
    "os.environ['TF_CPP_MIN_LOG_LEVEL'] = '3'\n",
    "print(os.getcwd())\n",
    "\n",
    "import time\n",
    "import numpy as np\n",
    "import pandas as pd\n",
    "from tensorflow import keras\n",
    "from tensorflow.keras import Model\n",
    "import tensorflow.compat.v1 as tf\n",
    "tf.disable_v2_behavior()\n",
    "import warnings\n",
    "warnings.filterwarnings(\"ignore\")\n",
    "\n",
    "from dsvdd import *\n",
    "\n",
    "import matplotlib.pyplot as plt\n",
    "\n",
    "from sklearn.model_selection import train_test_split\n",
    "from sklearn.preprocessing import LabelEncoder\n",
    "from sklearn.decomposition import PCA\n",
    "from sklearn.preprocessing import StandardScaler\n",
    "from sklearn.preprocessing import Normalizer\n",
    "\n",
    "from sklearn.metrics import roc_auc_score"
   ]
  },
  {
   "cell_type": "code",
   "execution_count": 2,
   "metadata": {},
   "outputs": [],
   "source": [
    "def Vanilla_AE(H=5):\n",
    "    model = keras.models.Sequential()\n",
    "    model.add(keras.layers.InputLayer(input_shape=(9,)))\n",
    "    model.add(keras.layers.Dense(6, activation='relu', use_bias=False))\n",
    "    model.add(keras.layers.Dense(H, activation='relu', use_bias=False, name='code_layer'))\n",
    "    model.add(keras.layers.Dense(6, activation='relu', use_bias=False))\n",
    "    model.add(keras.layers.Dense(9, activation='tanh', use_bias=False))\n",
    "    return model"
   ]
  },
  {
   "cell_type": "code",
   "execution_count": 3,
   "metadata": {},
   "outputs": [],
   "source": [
    "def get_paysim():\n",
    "    df = pd.read_csv('./data/PS_20174392719_1491204439457_log.csv')\n",
    "    df = pd.concat([df,pd.get_dummies(df['type'], prefix='type_')], axis=1)\n",
    "    df['hour'] = df['step'] % 24\n",
    "    df['day'] = (df['step'] / 24 ).apply(np.ceil)\n",
    "    df['weekday'] = df['day'] % 7\n",
    "    df['weekday'] = df['weekday'].replace({0.0 : 7.0})\n",
    "    df['sin_hour'] = np.sin(2*np.pi*df.hour/24)\n",
    "    df['cos_hour'] = np.cos(2*np.pi*df.hour/24)\n",
    "    df['sin_weekday'] = np.sin(2*np.pi*df.weekday/7)\n",
    "    df['cos_weekday'] = np.cos(2*np.pi*df.weekday/7)\n",
    "    df['type'] = LabelEncoder().fit_transform(df['type'])\n",
    "    df['nameOrig'] = LabelEncoder().fit_transform(df['nameOrig'])\n",
    "    df['nameDest'] = LabelEncoder().fit_transform(df['nameDest'])\n",
    "    \n",
    "    features = ['amount', 'oldbalanceOrg', 'newbalanceOrig', 'oldbalanceDest', 'newbalanceDest', 'nameOrig', 'nameDest']\n",
    "    features_values = df.loc[:, features].values\n",
    "    scaler_values = StandardScaler().fit_transform(features_values)\n",
    "    df[features] = PCA(n_components=len(features)).fit_transform(scaler_values)\n",
    "    \n",
    "    features_train = ['nameDest', 'oldbalanceOrg', 'newbalanceOrig', 'type', 'amount', 'sin_hour', 'day', 'step', 'hour']\n",
    "\n",
    "    targets = ['isFraud']\n",
    "    X = df.loc[:, features_train].values\n",
    "    \n",
    "    X = X - (X.max(0)+X.min(0))/2\n",
    "    X = X/X.max(axis=0) \n",
    "    \n",
    "    y = df.loc[:, targets].values\n",
    "    y = y.reshape(-1,)\n",
    "    y = np.where(y == 1, -1, 1)\n",
    "    return X, y"
   ]
  },
  {
   "cell_type": "code",
   "execution_count": 4,
   "metadata": {},
   "outputs": [],
   "source": [
    "X, y = get_paysim()"
   ]
  },
  {
   "cell_type": "code",
   "execution_count": 5,
   "metadata": {},
   "outputs": [],
   "source": [
    "#ratio train-test 0.7 0.3\n",
    "X_train, X_test , y_train, y_test = train_test_split(X, y, train_size=0.7)"
   ]
  },
  {
   "cell_type": "code",
   "execution_count": 5,
   "metadata": {},
   "outputs": [],
   "source": [
    "#ratio train-val-test 0.6 0.2 0.2\n",
    "X_train, X_test , y_train, y_test = train_test_split(X, y, train_size=8000, test_size=2000)\n",
    "X_train, X_val , y_train, y_val = train_test_split(X_train, y_train, train_size=0.75)"
   ]
  },
  {
   "cell_type": "code",
   "execution_count": 18,
   "metadata": {},
   "outputs": [],
   "source": []
  },
  {
   "cell_type": "code",
   "execution_count": 33,
   "metadata": {},
   "outputs": [
    {
     "name": "stdout",
     "output_type": "stream",
     "text": [
      "Train on 6000 samples, validate on 2000 samples\n",
      "Epoch 1/5\n",
      "6000/6000 [==============================] - 0s 29us/sample - loss: 0.4002 - val_loss: 0.3953\n",
      "Epoch 2/5\n",
      "6000/6000 [==============================] - 0s 12us/sample - loss: 0.3791 - val_loss: 0.3553\n",
      "Epoch 3/5\n",
      "6000/6000 [==============================] - 0s 12us/sample - loss: 0.2979 - val_loss: 0.2414\n",
      "Epoch 4/5\n",
      "6000/6000 [==============================] - 0s 12us/sample - loss: 0.1984 - val_loss: 0.1697\n",
      "Epoch 5/5\n",
      "6000/6000 [==============================] - 0s 12us/sample - loss: 0.1499 - val_loss: 0.1386\n"
     ]
    },
    {
     "data": {
      "text/plain": [
       "<tensorflow.python.keras.callbacks.History at 0x7f5bd404a160>"
      ]
     },
     "execution_count": 33,
     "metadata": {},
     "output_type": "execute_result"
    }
   ],
   "source": [
    "tf.reset_default_graph()\n",
    "AE_model = Vanilla_AE(H=5)\n",
    "#pre_train_AE (not required)\n",
    "AE_model.compile(optimizer='adam', loss='mse')\n",
    "AE_model.fit(X_train, X_train, epochs=5, batch_size=128, validation_data=(X_test, X_test), verbose=True)"
   ]
  },
  {
   "cell_type": "code",
   "execution_count": 34,
   "metadata": {},
   "outputs": [],
   "source": [
    "inputs = AE_model.input\n",
    "outputs = AE_model.get_layer(name=\"code_layer\").output\n",
    "encoder = Model(inputs = inputs, outputs = outputs)"
   ]
  },
  {
   "cell_type": "code",
   "execution_count": 35,
   "metadata": {},
   "outputs": [
    {
     "name": "stderr",
     "output_type": "stream",
     "text": [
      "100%|██████████| 47/47 [00:00<00:00, 803.70it/s]\n",
      "100%|██████████| 47/47 [00:00<00:00, 1525.08it/s]\n",
      "100%|██████████| 47/47 [00:00<00:00, 1440.98it/s]\n",
      "100%|██████████| 47/47 [00:00<00:00, 1811.93it/s]\n",
      "  0%|          | 0/47 [00:00<?, ?it/s]"
     ]
    },
    {
     "name": "stdout",
     "output_type": "stream",
     "text": [
      "Epoch:   0 AUROC: 0.664\n",
      "Epoch:   1 AUROC: 0.631\n",
      "Epoch:   2 AUROC: 0.622\n",
      "Epoch:   3 AUROC: 0.582\n"
     ]
    },
    {
     "name": "stderr",
     "output_type": "stream",
     "text": [
      "100%|██████████| 47/47 [00:00<00:00, 1495.90it/s]\n",
      "100%|██████████| 47/47 [00:00<00:00, 1624.12it/s]\n",
      "100%|██████████| 47/47 [00:00<00:00, 1760.79it/s]\n",
      "100%|██████████| 47/47 [00:00<00:00, 1459.31it/s]\n",
      "100%|██████████| 47/47 [00:00<00:00, 1621.61it/s]"
     ]
    },
    {
     "name": "stdout",
     "output_type": "stream",
     "text": [
      "Epoch:   4 AUROC: 0.606\n",
      "Epoch:   5 AUROC: 0.620\n",
      "Epoch:   6 AUROC: 0.641\n",
      "Epoch:   7 AUROC: 0.634\n"
     ]
    },
    {
     "name": "stderr",
     "output_type": "stream",
     "text": [
      "\n",
      "100%|██████████| 47/47 [00:00<00:00, 1689.08it/s]\n"
     ]
    },
    {
     "name": "stdout",
     "output_type": "stream",
     "text": [
      "Epoch:   8 AUROC: 0.636\n",
      "Epoch:   9 AUROC: 0.641\n",
      "Train time: 0.676722526550293\n",
      "Test time: 0.009450912475585938\n",
      "------------- AUROC ----------- : 0.7637\n"
     ]
    }
   ],
   "source": [
    "from dsvdd.utils import plot_most_normal_and_abnormal_images\n",
    "\n",
    "# build model and DeepSVDD\n",
    "svdd_soft = DeepSVDD(encoder, input_shape=(9,), representation_dim=5, objective='hard', nu=0.05)\n",
    "\n",
    "t0 = time.time()\n",
    "hisory_soft = svdd_soft.fit(X_train, X_train, y_train, epochs=10, verbose=True)\n",
    "print('Train time:', time.time() - t0)\n",
    "\n",
    "# test DeepSVDD\n",
    "t0 = time.time()\n",
    "score = svdd_soft.predict(X_test)\n",
    "auc = roc_auc_score(y_test, -score)\n",
    "print('Test time:', time.time() - t0)\n",
    "print('------------- AUROC ----------- : %.4f' % auc)"
   ]
  },
  {
   "cell_type": "code",
   "execution_count": null,
   "metadata": {},
   "outputs": [],
   "source": []
  }
 ],
 "metadata": {
  "kernelspec": {
   "display_name": "svdd_user",
   "language": "python",
   "name": "svdd_user"
  },
  "language_info": {
   "codemirror_mode": {
    "name": "ipython",
    "version": 3
   },
   "file_extension": ".py",
   "mimetype": "text/x-python",
   "name": "python",
   "nbconvert_exporter": "python",
   "pygments_lexer": "ipython3",
   "version": "3.6.9"
  },
  "metadata": {
   "interpreter": {
    "hash": "ab6c89459f8f17ad2189cfde781e1db8ea16f167054b1a3268bd5f457fab4c73"
   }
  }
 },
 "nbformat": 4,
 "nbformat_minor": 4
}
