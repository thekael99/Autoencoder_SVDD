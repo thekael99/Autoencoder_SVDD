{
 "cells": [
  {
   "cell_type": "code",
   "execution_count": 1,
   "source": [
    "import os\n",
    "import time\n",
    "import numpy as np\n",
    "import pandas as pd\n",
    "from tensorflow import keras\n",
    "from tensorflow.keras import Model\n",
    "from sklearn.metrics import roc_auc_score\n",
    "from sklearn.model_selection import train_test_split\n",
    "import matplotlib.pyplot as plt\n",
    "\n",
    "from aesvdd import autoencoder\n",
    "from aesvdd import model\n",
    "from aesvdd import datasets\n",
    "\n",
    "import warnings\n",
    "import tensorflow.compat.v1 as tf\n",
    "tf.disable_v2_behavior()\n",
    "\n",
    "os.environ['TF_CPP_MIN_LOG_LEVEL'] = '3'\n",
    "print(os.getcwd())\n",
    "warnings.filterwarnings(\"ignore\")\n"
   ],
   "outputs": [
    {
     "output_type": "stream",
     "name": "stdout",
     "text": [
      "WARNING:tensorflow:From /home/kael99/.local/lib/python3.8/site-packages/tensorflow/python/compat/v2_compat.py:96: disable_resource_variables (from tensorflow.python.ops.variable_scope) is deprecated and will be removed in a future version.\n",
      "Instructions for updating:\n",
      "non-resource variables are not supported in the long term\n",
      "/home/kael99/Documents/Code/Autoencoder_SVDD\n"
     ]
    }
   ],
   "metadata": {}
  },
  {
   "cell_type": "code",
   "execution_count": 2,
   "source": [
    "X_train, X_test, y_test = datasets.get_mnist(1)"
   ],
   "outputs": [],
   "metadata": {}
  },
  {
   "cell_type": "code",
   "execution_count": 3,
   "source": [
    "tf.reset_default_graph()\n",
    "AE_model = autoencoder.mnist_lenet(H=32)\n",
    "#pre_train_AE (not required)\n",
    "# AE_model.compile(optimizer='adam', loss='mse')\n",
    "# AE_model.fit(X_train, X_train, epochs=2, batch_size=128, validation_data=(X_test, X_test), verbose=True)"
   ],
   "outputs": [],
   "metadata": {}
  },
  {
   "cell_type": "code",
   "execution_count": 4,
   "source": [
    "inputs = AE_model.input\n",
    "outputs = AE_model.get_layer(name=\"code_layer\").output\n",
    "encoder = Model(inputs = inputs, outputs = outputs)"
   ],
   "outputs": [],
   "metadata": {}
  },
  {
   "cell_type": "code",
   "execution_count": 5,
   "source": [
    "# build model and DeepSVDD\n",
    "svdd_hard = model.AESVDD(encoder, input_shape=((28,28,1)), representation_dim=32, objective='hard', nu=0.02, lr=5e-4)\n",
    "t0 = time.time()\n",
    "hisory = svdd_hard.fit(X_train, X_test, y_test, epochs=10, verbose=True)\n",
    "print('Train time:', time.time() - t0)\n",
    "\n",
    "# test DeepSVDD\n",
    "t0 = time.time()\n",
    "score = svdd_hard.predict(X_test)\n",
    "auc = roc_auc_score(y_test, -score)\n",
    "print('Test time:', time.time() - t0)\n",
    "print('------------- AUROC ----------- : %.4f' % auc)"
   ],
   "outputs": [
    {
     "output_type": "stream",
     "name": "stdout",
     "text": [
      "WARNING:tensorflow:From /home/kael99/Documents/Code/Autoencoder_SVDD/aesvdd/model.py:47: The name tf.keras.backend.set_session is deprecated. Please use tf.compat.v1.keras.backend.set_session instead.\n",
      "\n",
      "WARNING:tensorflow:From /home/kael99/Documents/Code/Autoencoder_SVDD/aesvdd/model.py:111: set_learning_phase (from tensorflow.python.keras.backend) is deprecated and will be removed after 2020-10-11.\n",
      "Instructions for updating:\n",
      "Simply pass a True/False value to the `training` argument of the `__call__` method of your layer or model.\n"
     ]
    },
    {
     "output_type": "stream",
     "name": "stderr",
     "text": [
      "100%|██████████| 53/53 [00:03<00:00, 15.47it/s]\n",
      "  4%|▍         | 2/53 [00:00<00:03, 13.41it/s]"
     ]
    },
    {
     "output_type": "stream",
     "name": "stdout",
     "text": [
      "Epoch:   0 AUROC: 0.991\n"
     ]
    },
    {
     "output_type": "stream",
     "name": "stderr",
     "text": [
      "100%|██████████| 53/53 [00:03<00:00, 17.40it/s]\n",
      "  4%|▍         | 2/53 [00:00<00:03, 16.29it/s]"
     ]
    },
    {
     "output_type": "stream",
     "name": "stdout",
     "text": [
      "Epoch:   1 AUROC: 0.993\n"
     ]
    },
    {
     "output_type": "stream",
     "name": "stderr",
     "text": [
      "100%|██████████| 53/53 [00:03<00:00, 16.64it/s]\n",
      "  4%|▍         | 2/53 [00:00<00:03, 16.43it/s]"
     ]
    },
    {
     "output_type": "stream",
     "name": "stdout",
     "text": [
      "Epoch:   2 AUROC: 0.992\n"
     ]
    },
    {
     "output_type": "stream",
     "name": "stderr",
     "text": [
      "100%|██████████| 53/53 [00:03<00:00, 13.28it/s]\n",
      "  4%|▍         | 2/53 [00:00<00:03, 13.51it/s]"
     ]
    },
    {
     "output_type": "stream",
     "name": "stdout",
     "text": [
      "Epoch:   3 AUROC: 0.991\n"
     ]
    },
    {
     "output_type": "stream",
     "name": "stderr",
     "text": [
      "100%|██████████| 53/53 [00:04<00:00, 12.71it/s]\n",
      "  2%|▏         | 1/53 [00:00<00:05,  9.97it/s]"
     ]
    },
    {
     "output_type": "stream",
     "name": "stdout",
     "text": [
      "Epoch:   4 AUROC: 0.991\n"
     ]
    },
    {
     "output_type": "stream",
     "name": "stderr",
     "text": [
      "100%|██████████| 53/53 [00:04<00:00, 10.90it/s]\n",
      "  2%|▏         | 1/53 [00:00<00:05,  9.11it/s]"
     ]
    },
    {
     "output_type": "stream",
     "name": "stdout",
     "text": [
      "Epoch:   5 AUROC: 0.991\n"
     ]
    },
    {
     "output_type": "stream",
     "name": "stderr",
     "text": [
      "100%|██████████| 53/53 [00:04<00:00, 12.17it/s]\n",
      "  4%|▍         | 2/53 [00:00<00:03, 13.92it/s]"
     ]
    },
    {
     "output_type": "stream",
     "name": "stdout",
     "text": [
      "Epoch:   6 AUROC: 0.991\n"
     ]
    },
    {
     "output_type": "stream",
     "name": "stderr",
     "text": [
      "100%|██████████| 53/53 [00:04<00:00, 13.01it/s]\n",
      "  4%|▍         | 2/53 [00:00<00:03, 13.43it/s]"
     ]
    },
    {
     "output_type": "stream",
     "name": "stdout",
     "text": [
      "Epoch:   7 AUROC: 0.991\n"
     ]
    },
    {
     "output_type": "stream",
     "name": "stderr",
     "text": [
      "100%|██████████| 53/53 [00:04<00:00, 10.89it/s]\n",
      "  2%|▏         | 1/53 [00:00<00:05,  9.67it/s]"
     ]
    },
    {
     "output_type": "stream",
     "name": "stdout",
     "text": [
      "Epoch:   8 AUROC: 0.991\n"
     ]
    },
    {
     "output_type": "stream",
     "name": "stderr",
     "text": [
      "100%|██████████| 53/53 [00:04<00:00, 13.15it/s]\n"
     ]
    },
    {
     "output_type": "stream",
     "name": "stdout",
     "text": [
      "Epoch:   9 AUROC: 0.991\n",
      "Train time: 63.29933166503906\n",
      "Test time: 2.099440813064575\n",
      "------------- AUROC ----------- : 0.9913\n"
     ]
    }
   ],
   "metadata": {}
  },
  {
   "cell_type": "code",
   "execution_count": 6,
   "source": [
    "from aesvdd.utils import plot_most_normal_and_abnormal_images\n",
    "score_1 = svdd_hard.predict(X_train) \n",
    "plot_most_normal_and_abnormal_images(X_train, score_1)\n",
    "plt.show()\n"
   ],
   "outputs": [
    {
     "output_type": "display_data",
     "data": {
      "text/plain": [
       "<Figure size 360x360 with 2 Axes>"
      ],
      "image/png": "[encoded data removed]"
     },
     "metadata": {
      "needs_background": "light"
     }
    }
   ],
   "metadata": {}
  },
  {
   "cell_type": "code",
   "execution_count": 7,
   "source": [
    "svdd_hard.save_model(\"svdd_hard_mnist\")"
   ],
   "outputs": [],
   "metadata": {}
  },
  {
   "cell_type": "code",
   "execution_count": 8,
   "source": [
    "X_train_map = svdd_hard.keras_model.predict(X_train)"
   ],
   "outputs": [
    {
     "output_type": "stream",
     "name": "stdout",
     "text": [
      "WARNING:tensorflow:From /home/kael99/.local/lib/python3.8/site-packages/tensorflow/python/keras/engine/training_v1.py:2070: Model.state_updates (from tensorflow.python.keras.engine.training) is deprecated and will be removed in a future version.\n",
      "Instructions for updating:\n",
      "This property should not be used in TensorFlow 2.0, as updates are applied automatically.\n"
     ]
    }
   ],
   "metadata": {}
  },
  {
   "cell_type": "code",
   "execution_count": 9,
   "source": [
    "X_train_map.shape"
   ],
   "outputs": [
    {
     "output_type": "execute_result",
     "data": {
      "text/plain": [
       "(6742, 32)"
      ]
     },
     "metadata": {},
     "execution_count": 9
    }
   ],
   "metadata": {}
  },
  {
   "cell_type": "code",
   "execution_count": 10,
   "source": [
    "y_train_label = svdd_hard.predict_label(X_train)"
   ],
   "outputs": [],
   "metadata": {}
  },
  {
   "cell_type": "code",
   "execution_count": 11,
   "source": [
    "np.unique(y_train_label, return_counts=True)"
   ],
   "outputs": [
    {
     "output_type": "execute_result",
     "data": {
      "text/plain": [
       "(array([-1,  1]), array([ 135, 6607]))"
      ]
     },
     "metadata": {},
     "execution_count": 11
    }
   ],
   "metadata": {}
  },
  {
   "cell_type": "code",
   "execution_count": 12,
   "source": [
    "from sklearn.decomposition import PCA\n",
    "X_map_2D = PCA(n_components=2).fit_transform(X_train_map)"
   ],
   "outputs": [],
   "metadata": {}
  },
  {
   "cell_type": "code",
   "execution_count": 22,
   "source": [
    "cdict = {-1: 'red', 1: 'blue'}\n",
    "fig, ax = plt.subplots()\n",
    "for g in np.unique(y_train_label):\n",
    "    ix = np.where(y_train_label == g)\n",
    "    ax.scatter(X_map_2D[:,0][ix], X_map_2D[:,1][ix], c = cdict[g], label = g, s = 50)\n",
    "ax.legend()\n",
    "plt.show()"
   ],
   "outputs": [
    {
     "output_type": "display_data",
     "data": {
      "text/plain": [
       "<Figure size 432x288 with 1 Axes>"
      ],
      "image/png": "[encoded data removed]"
     },
     "metadata": {
      "needs_background": "light"
     }
    }
   ],
   "metadata": {}
  }
 ],
 "metadata": {
  "kernelspec": {
   "name": "python3",
   "display_name": "Python 3.8.10 64-bit"
  },
  "language_info": {
   "codemirror_mode": {
    "name": "ipython",
    "version": 3
   },
   "file_extension": ".py",
   "mimetype": "text/x-python",
   "name": "python",
   "nbconvert_exporter": "python",
   "pygments_lexer": "ipython3",
   "version": "3.8.10"
  },
  "metadata": {
   "interpreter": {
    "hash": "ab6c89459f8f17ad2189cfde781e1db8ea16f167054b1a3268bd5f457fab4c73"
   }
  },
  "interpreter": {
   "hash": "916dbcbb3f70747c44a77c7bcd40155683ae19c65e1c03b4aa3499c5328201f1"
  }
 },
 "nbformat": 4,
 "nbformat_minor": 4
}