{
 "cells": [
  {
   "cell_type": "code",
   "execution_count": 3,
   "source": [
    "import numpy as np\r\n",
    "import pandas as pd\r\n",
    "import csv\r\n",
    "import sys\r\n",
    "\r\n",
    "from sys import platform as sys_pf\r\n",
    "\r\n",
    "import matplotlib\r\n",
    "matplotlib.use(\"TkAgg\")\r\n",
    "import matplotlib.pyplot as plt\r\n",
    "\r\n",
    "from sklearn import preprocessing\r\n",
    "from sklearn.decomposition import PCA"
   ],
   "outputs": [],
   "metadata": {}
  },
  {
   "cell_type": "code",
   "execution_count": 2,
   "source": [
    "    print('-----------   start get dataset     -----------')\r\n",
    "    X = np.load('data/X.npy')\r\n",
    "    y = np.load('data/y.npy')\r\n",
    "    print('-----------   get dataset  Sucessful -----------')"
   ],
   "outputs": [
    {
     "output_type": "stream",
     "name": "stdout",
     "text": [
      "-----------   start get dataset     -----------\n",
      "-----------   get dataset  Sucessful -----------\n"
     ]
    }
   ],
   "metadata": {}
  },
  {
   "cell_type": "code",
   "execution_count": 4,
   "source": [
    "\r\n",
    "   pca = PCA(n_components=2)\r\n",
    "   pcs = pca.fit_transform(X)\r\n",
    "   pdf = pd.DataFrame(data = pcs,columns = ['PC 1', 'PC 2'])"
   ],
   "outputs": [],
   "metadata": {}
  },
  {
   "cell_type": "code",
   "execution_count": 5,
   "source": [
    "   x = pdf.values.tolist()\r\n",
    "   x = [tuple(l) for l in x]\r\n",
    "   y = y.tolist()"
   ],
   "outputs": [],
   "metadata": {}
  },
  {
   "cell_type": "code",
   "execution_count": null,
   "source": [
    "be = []\r\n",
    "fr = []\r\n",
    "i = 0\r\n",
    "while i < len(y):\r\n",
    "    if y[i][0] == 0:\r\n",
    "        be.append(x[i])\r\n",
    "    else:\r\n",
    "        fr.append(x[i])\r\n",
    "    i += 1\r\n",
    "\r\n",
    "plt.clf()\r\n",
    "plt.title('PCA for ' + filename[:-4] + ' transactions')\r\n",
    "plt.xlabel('PC 1')\r\n",
    "plt.ylabel('PC 2 ')\r\n",
    "plt.grid(True)\r\n",
    "\r\n",
    "\r\n",
    "x1,x2 = zip(*be)\r\n",
    "plt.scatter(x1, x2,color = 'b' , marker='+' , label = 'Non-fraud txn')\r\n",
    "\r\n",
    "if len(fr) > 0:\r\n",
    "    x1,x2 = zip(*fr)\r\n",
    "    plt.scatter(x1, x2,color = 'r' , marker = 'x' , label = 'Fraud txn')\r\n",
    "\r\n",
    "fig = filename[:-4]\r\n",
    "plt.legend()\r\n",
    "plt.savefig('./' + 'result' +'.png')"
   ],
   "outputs": [],
   "metadata": {}
  }
 ],
 "metadata": {
  "orig_nbformat": 4,
  "language_info": {
   "name": "python",
   "version": "3.7.9",
   "mimetype": "text/x-python",
   "codemirror_mode": {
    "name": "ipython",
    "version": 3
   },
   "pygments_lexer": "ipython3",
   "nbconvert_exporter": "python",
   "file_extension": ".py"
  },
  "kernelspec": {
   "name": "python3",
   "display_name": "Python 3.7.9 64-bit"
  },
  "interpreter": {
   "hash": "684b1123683431d89d3bfe9a89cc763215f4b8cd94b4aba1fb40ad45ff7c8b41"
  }
 },
 "nbformat": 4,
 "nbformat_minor": 2
}